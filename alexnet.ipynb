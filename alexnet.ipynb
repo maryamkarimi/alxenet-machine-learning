{
 "cells": [
  {
   "cell_type": "markdown",
   "metadata": {},
   "source": [
    "### Part b"
   ]
  },
  {
   "cell_type": "code",
   "execution_count": 1,
   "metadata": {},
   "outputs": [],
   "source": [
    "import pickle\n",
    "import torch\n",
    "import torchvision\n",
    "import heapq \n",
    "import numpy as np\n",
    "from sklearn import svm\n",
    "from sklearn import metrics\n",
    "from sklearn.model_selection import train_test_split\n",
    "from sklearn.model_selection import GridSearchCV\n",
    "from sklearn.linear_model import SGDClassifier\n",
    "import matplotlib.pyplot as plt\n",
    "import itertools\n",
    "from torchvision import transforms\n",
    "from PIL import Image"
   ]
  },
  {
   "cell_type": "code",
   "execution_count": 2,
   "metadata": {},
   "outputs": [],
   "source": [
    "def unpickle(file):\n",
    "    with open(file, 'rb') as fo:\n",
    "        dict = pickle.load(fo, encoding='bytes')\n",
    "    return dict"
   ]
  },
  {
   "cell_type": "code",
   "execution_count": 3,
   "metadata": {},
   "outputs": [],
   "source": [
    "def get_train_data():\n",
    "    for n in range(1,6):\n",
    "        train_batch_dict = unpickle('data_batch_' + str(n))\n",
    "        if n == 1:\n",
    "            x_train_set = np.array(train_batch_dict[b'data'])\n",
    "            y_train_set = np.array(train_batch_dict[b'labels'])\n",
    "        else:\n",
    "            x_train_set = np.concatenate([x_train_set, train_batch_dict[b'data']], axis=0)\n",
    "            y_train_set = np.concatenate([y_train_set, train_batch_dict[b'labels']], axis=0)\n",
    "    return x_train_set, y_train_set"
   ]
  },
  {
   "cell_type": "code",
   "execution_count": 4,
   "metadata": {},
   "outputs": [],
   "source": [
    "def get_test_data():\n",
    "    test_batch_dict = unpickle('test_batch')\n",
    "    x_test_set = np.array(test_batch_dict[b'data'])\n",
    "    y_test_set = np.array(test_batch_dict[b'labels'])\n",
    "    return x_test_set, y_test_set"
   ]
  },
  {
   "cell_type": "code",
   "execution_count": 5,
   "metadata": {},
   "outputs": [],
   "source": [
    "def get_cifar10_classes():\n",
    "    class_names_dict = unpickle('batches.meta')\n",
    "    class_names_list = []\n",
    "    for name in class_names_dict[b'label_names']:\n",
    "        class_names_list.append(str(name)[2:-1])\n",
    "\n",
    "    return class_names_list"
   ]
  },
  {
   "cell_type": "code",
   "execution_count": 6,
   "metadata": {},
   "outputs": [],
   "source": [
    "def get_imagenet_classes():\n",
    "    # read the categories\n",
    "    with open(\"imagenet_classes.txt\", \"r\") as f:\n",
    "        categories = [s.strip() for s in f.readlines()]\n",
    "    return categories"
   ]
  },
  {
   "cell_type": "code",
   "execution_count": 7,
   "metadata": {},
   "outputs": [],
   "source": [
    "def get_alexnet_pretrained_model():\n",
    "    # load pre-trained AlexNet model\n",
    "    model = torch.hub.load('pytorch/vision:v0.8.0', 'alexnet', pretrained=True)\n",
    "    model.eval()\n",
    "    return model"
   ]
  },
  {
   "cell_type": "code",
   "execution_count": 8,
   "metadata": {},
   "outputs": [],
   "source": [
    "def get_preprocess():\n",
    "    preprocess = transforms.Compose([\n",
    "        transforms.Resize(256),\n",
    "        transforms.CenterCrop(224),\n",
    "        transforms.ToTensor(),\n",
    "        transforms.Normalize(mean=[0.485, 0.456, 0.406], std=[0.229, 0.224, 0.225]),\n",
    "    ])\n",
    "    return preprocess"
   ]
  },
  {
   "cell_type": "code",
   "execution_count": 9,
   "metadata": {},
   "outputs": [],
   "source": [
    "# predicts the values for each image and also finds top n predicted classes\n",
    "def predict(model, data, n):\n",
    "    imagenet_classes = get_imagenet_classes()\n",
    "    counts = {}.fromkeys(imagenet_classes, 0)\n",
    "    y_predict = []\n",
    "    for index in range(0, len(data)):\n",
    "\n",
    "        current_image = data[index].reshape(3, 32, 32).transpose(1, 2, 0)\n",
    "        input_image = Image.fromarray(current_image, mode='RGB')\n",
    "\n",
    "        input_tensor = preprocess(input_image)\n",
    "        input_batch = input_tensor.unsqueeze(0) # create a mini-batch as expected by the model\n",
    "\n",
    "        output = model(input_batch)\n",
    "\n",
    "        probabilities = torch.nn.functional.softmax(output[0], dim=0)\n",
    "\n",
    "        top_prob, top_catid = torch.topk(probabilities, 1)\n",
    "        counts[imagenet_classes[top_catid[0]]] += 1\n",
    "\n",
    "        y_predict.append(imagenet_classes[top_catid[0]])\n",
    "    \n",
    "    top_predicted = heapq.nlargest(n, counts, key=counts.get)\n",
    "    return top_predicted, y_predict"
   ]
  },
  {
   "cell_type": "code",
   "execution_count": 10,
   "metadata": {},
   "outputs": [],
   "source": [
    "def create_confusion_matrix(n, top_predicted_classes, predicted_classes, true_indexes):\n",
    "    \n",
    "    confusion_matrix = [ [ 0 for i in range(n) ] for j in range(n) ]\n",
    "\n",
    "    # maps every top predicted class to an index in 0, n range\n",
    "    top_predicted_dict = {}\n",
    "    for index in range(n):\n",
    "        top_predicted_dict[top_predicted_classes[index]] = index\n",
    "    \n",
    "    for index in range (0, len(predicted_classes)): \n",
    "        curr_predicted_class = predicted_classes[index]\n",
    "        \n",
    "        if curr_predicted_class in top_predicted_classes:\n",
    "            true_index = true_indexes[index]\n",
    "            predicted_index = top_predicted_dict[curr_predicted_class]\n",
    "            confusion_matrix[true_index][predicted_index] += 1\n",
    "            \n",
    "    return confusion_matrix"
   ]
  },
  {
   "cell_type": "code",
   "execution_count": 11,
   "metadata": {},
   "outputs": [],
   "source": [
    "def plot_confusion_matrix(cm,\n",
    "                          x_classes,\n",
    "                          y_classes,\n",
    "                          title='Confusion matrix'):\n",
    "\n",
    "    cmap = plt.get_cmap('RdPu')\n",
    "\n",
    "    plt.figure(figsize=(8, 6))\n",
    "    plt.imshow(cm, interpolation='nearest', cmap=cmap)\n",
    "    plt.title(title)\n",
    "    plt.colorbar()\n",
    "\n",
    "    x_tick_marks = np.arange(len(x_classes))\n",
    "    plt.xticks(x_tick_marks, x_classes, rotation=75)\n",
    "    \n",
    "    y_tick_marks = np.arange(len(y_classes))\n",
    "    plt.yticks(y_tick_marks, y_classes)\n",
    "\n",
    "    thresh = cm.max() / 1.5\n",
    "    for i, j in itertools.product(range(cm.shape[0]), range(cm.shape[1])):\n",
    "        plt.text(j,\n",
    "                 i,\n",
    "                 \"{:,}\".format(cm[i, j]),\n",
    "                 horizontalalignment = \"center\",\n",
    "                 color = \"white\" if cm[i, j] > thresh else \"black\")\n",
    "\n",
    "\n",
    "    plt.tight_layout()\n",
    "    plt.ylabel('True label')\n",
    "    plt.xlabel('Predicted label')\n",
    "    plt.show()"
   ]
  },
  {
   "cell_type": "code",
   "execution_count": 12,
   "metadata": {},
   "outputs": [
    {
     "name": "stderr",
     "output_type": "stream",
     "text": [
      "Using cache found in /Users/maryamkarimi/.cache/torch/hub/pytorch_vision_v0.8.0\n"
     ]
    }
   ],
   "source": [
    "n = 10\n",
    "cifar10_classes = get_cifar10_classes()\n",
    "\n",
    "x_train, y_train = get_train_data()\n",
    "x_test, y_test = get_test_data()\n",
    "\n",
    "alexnet = get_alexnet_pretrained_model()\n",
    "preprocess = get_preprocess()"
   ]
  },
  {
   "cell_type": "code",
   "execution_count": 13,
   "metadata": {},
   "outputs": [],
   "source": [
    "top_predicted_classes, y_predict = predict(model = alexnet,\n",
    "                                           data = x_test,\n",
    "                                           n = n)"
   ]
  },
  {
   "cell_type": "code",
   "execution_count": 14,
   "metadata": {},
   "outputs": [],
   "source": [
    "confusion_matrix = create_confusion_matrix(n = n,\n",
    "                                           top_predicted_classes = top_predicted_classes,\n",
    "                                           predicted_classes = y_predict,\n",
    "                                           true_indexes = y_test)"
   ]
  },
  {
   "cell_type": "code",
   "execution_count": 15,
   "metadata": {},
   "outputs": [
    {
     "data": {
      "image/png": "[encoded data removed]",
      "text/plain": [
       "<Figure size 576x432 with 2 Axes>"
      ]
     },
     "metadata": {
      "needs_background": "light"
     },
     "output_type": "display_data"
    }
   ],
   "source": [
    "plot_confusion_matrix(cm = np.array(confusion_matrix),\n",
    "                      x_classes = top_predicted_classes,\n",
    "                      y_classes = cifar10_classes)"
   ]
  },
  {
   "cell_type": "markdown",
   "metadata": {},
   "source": [
    "### Part c and d"
   ]
  },
  {
   "cell_type": "code",
   "execution_count": 16,
   "metadata": {},
   "outputs": [],
   "source": [
    "def extract_features(model, data):\n",
    "    result = []\n",
    "    \n",
    "    for i in range(len(data)):\n",
    "        current_image = data[i].reshape(3, 32, 32).transpose(1, 2, 0)\n",
    "        input_image = Image.fromarray(current_image, mode='RGB')\n",
    "        input_tensor = preprocess(input_image)\n",
    "        input_batch = input_tensor.unsqueeze(0)\n",
    "        result.append(model(input_batch).detach().numpy()[0])\n",
    "    \n",
    "    return result"
   ]
  },
  {
   "cell_type": "code",
   "execution_count": 17,
   "metadata": {},
   "outputs": [],
   "source": [
    "def find_best_classifier(x_validation, y_validation, alexnet):\n",
    "    \n",
    "    clf = SGDClassifier(shuffle=True, loss='log')\n",
    "    \n",
    "    params = {'alpha': 10.0**-np.arange(1,7)}\n",
    "    gs = GridSearchCV(clf, params, scoring='accuracy')\n",
    "    \n",
    "    x_validation_features = extract_features(model = alexnet,\n",
    "                                             data = x_validation)\n",
    "    gs.fit(x_validation_features, y_validation)\n",
    "    \n",
    "    return gs.best_estimator_"
   ]
  },
  {
   "cell_type": "code",
   "execution_count": 18,
   "metadata": {},
   "outputs": [],
   "source": [
    "def train_and_predict(clf, model, x_train_portion, x_test, y_train_portion, y_test):\n",
    "\n",
    "    # train one batch of the data at a time\n",
    "    for i in range(40):\n",
    "        x_train_portion_features = extract_features(model = alexnet,\n",
    "                                                    data = x_train_portion[1000 * i :\n",
    "                                                                           1000 * (i + 1)])\n",
    "        clf.partial_fit(x_train_portion_features,\n",
    "                        y_train_portion[1000 * i : 1000 * (i + 1)],\n",
    "                        np.arange(10))\n",
    "        \n",
    "        if ((1000 * (i + 1)) % 10000 == 0):\n",
    "            print(str(1000 * (i + 1) / 400) + '% completed')\n",
    "\n",
    "    print('starting prediction...')\n",
    "    x_test_features = extract_features(model = alexnet,\n",
    "                                       data = x_test)\n",
    "\n",
    "    # predict on unseen data\n",
    "    y_pred = clf.predict(x_test_features)\n",
    "    \n",
    "    return y_pred"
   ]
  },
  {
   "cell_type": "code",
   "execution_count": 19,
   "metadata": {},
   "outputs": [],
   "source": [
    "x_train_portion, x_validation, y_train_portion, y_validation = train_test_split(x_train,\n",
    "                                                                                y_train,\n",
    "                                                                                test_size=0.2,\n",
    "                                                                                random_state=0)"
   ]
  },
  {
   "cell_type": "code",
   "execution_count": null,
   "metadata": {},
   "outputs": [
    {
     "name": "stderr",
     "output_type": "stream",
     "text": [
      "Using cache found in /Users/maryamkarimi/.cache/torch/hub/pytorch_vision_v0.8.0\n"
     ]
    }
   ],
   "source": [
    "alexnet = get_alexnet_pretrained_model()\n",
    "\n",
    "# remove the last 2 fully-connected layers\n",
    "fc6 = torch.nn.Sequential(*list(alexnet.classifier.children())[:-2])\n",
    "alexnet.classifier = fc6\n",
    "\n",
    "# tune the parameters and find the best classifier\n",
    "clf = find_best_classifier(x_validation, y_validation, alexnet)\n",
    "\n",
    "y_pred = train_and_predict(clf,\n",
    "                           alexnet,\n",
    "                           x_train_portion,\n",
    "                           x_test,\n",
    "                           y_train_portion,\n",
    "                           y_test)"
   ]
  },
  {
   "cell_type": "code",
   "execution_count": null,
   "metadata": {},
   "outputs": [],
   "source": [
    "print('Accuracy w/ fc6: ', metrics.accuracy_score(y_test, y_pred))\n",
    "plot_confusion_matrix(cm = metrics.confusion_matrix(y_test, y_pred),\n",
    "                      x_classes = cifar10_classes,\n",
    "                      y_classes = cifar10_classes,\n",
    "                      title = 'Linear Classifier Performance w/ fc6 Representation')"
   ]
  },
  {
   "cell_type": "code",
   "execution_count": null,
   "metadata": {},
   "outputs": [],
   "source": [
    "alexnet = get_alexnet_pretrained_model()\n",
    "\n",
    "# remove the last fully-connected layer\n",
    "fc7 = torch.nn.Sequential(*list(alexnet.classifier.children())[:-1])\n",
    "alexnet.classifier = fc7\n",
    "\n",
    "# tune the parameters and find the best classifier\n",
    "clf = find_best_classifier(x_validation, y_validation, alexnet)\n",
    "\n",
    "y_pred = train_and_predict(clf,\n",
    "                           alexnet,\n",
    "                           x_train_portion,\n",
    "                           x_test,\n",
    "                           y_train_portion,\n",
    "                           y_test)"
   ]
  },
  {
   "cell_type": "code",
   "execution_count": null,
   "metadata": {},
   "outputs": [],
   "source": [
    "print('Accuracy w/ fc7: ', metrics.accuracy_score(y_test, y_pred))\n",
    "plot_confusion_matrix(cm = metrics.confusion_matrix(y_test, y_pred),\n",
    "                      x_classes = cifar10_classes,\n",
    "                      y_classes = cifar10_classes,\n",
    "                      title = 'Linear Classifier Performance w/ fc7 Representation')"
   ]
  }
 ],
 "metadata": {
  "kernelspec": {
   "display_name": "Python 3",
   "language": "python",
   "name": "python3"
  },
  "language_info": {
   "codemirror_mode": {
    "name": "ipython",
    "version": 3
   },
   "file_extension": ".py",
   "mimetype": "text/x-python",
   "name": "python",
   "nbconvert_exporter": "python",
   "pygments_lexer": "ipython3",
   "version": "3.8.3"
  }
 },
 "nbformat": 4,
 "nbformat_minor": 4
}
